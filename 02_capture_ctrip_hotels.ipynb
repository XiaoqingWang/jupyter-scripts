{
 "cells": [
  {
   "cell_type": "markdown",
   "metadata": {},
   "source": [
    "# 采集携程酒店数据"
   ]
  },
  {
   "cell_type": "markdown",
   "metadata": {},
   "source": [
    "## 项目初始化"
   ]
  },
  {
   "cell_type": "code",
   "execution_count": 37,
   "metadata": {
    "collapsed": true
   },
   "outputs": [],
   "source": [
    "import time\n",
    "from selenium import webdriver\n",
    "from bs4 import BeautifulSoup\n",
    "from selenium.webdriver.common.by import By\n",
    "from selenium.webdriver.support.ui import WebDriverWait \n",
    "from selenium.webdriver.support import expected_conditions as EC"
   ]
  },
  {
   "cell_type": "markdown",
   "metadata": {},
   "source": [
    "## 打开目标网址"
   ]
  },
  {
   "cell_type": "code",
   "execution_count": 38,
   "metadata": {},
   "outputs": [],
   "source": [
    "driver = webdriver.Chrome()\n",
    "driver.get(\"http://hotels.ctrip.com/hotel/shanghai2\")"
   ]
  },
  {
   "cell_type": "markdown",
   "metadata": {},
   "source": [
    "## 配置搜索参数\n",
    "- 商业区勾选人民广场"
   ]
  },
  {
   "cell_type": "code",
   "execution_count": 39,
   "metadata": {},
   "outputs": [],
   "source": [
    "areaButton = driver.find_element_by_xpath('//*[@id=\"zone-28\"]/input')\n",
    "areaButton.click()\n",
    "try:\n",
    "    WebDriverWait(driver, 10).until( EC.visibility_of_element_located((By.CLASS_NAME,\"page_box\")))\n",
    "except:\n",
    "    pass"
   ]
  },
  {
   "cell_type": "markdown",
   "metadata": {},
   "source": [
    "- 星级勾选三星级,四星级,五星级"
   ]
  },
  {
   "cell_type": "code",
   "execution_count": 40,
   "metadata": {
    "collapsed": true
   },
   "outputs": [],
   "source": [
    "threeStarButtion = driver.find_element_by_xpath('//*[@id=\"star-3\"]/input')\n",
    "threeStarButtion.click()\n",
    "try:\n",
    "    WebDriverWait(driver, 10).until( EC.visibility_of_element_located((By.CLASS_NAME,\"page_box\")))\n",
    "except:\n",
    "    pass\n",
    "\n",
    "fourStarButtion = driver.find_element_by_xpath('//*[@id=\"star-4\"]/input')\n",
    "fourStarButtion.click()\n",
    "try:\n",
    "    WebDriverWait(driver, 10).until( EC.visibility_of_element_located((By.CLASS_NAME,\"page_box\")))\n",
    "except:\n",
    "    pass\n",
    "\n",
    "fiveStarButtion = driver.find_element_by_xpath('//*[@id=\"star-5\"]/input')\n",
    "fiveStarButtion.click()\n",
    "try:\n",
    "    WebDriverWait(driver, 10).until( EC.visibility_of_element_located((By.CLASS_NAME,\"page_box\")))\n",
    "except:\n",
    "    pass"
   ]
  },
  {
   "cell_type": "markdown",
   "metadata": {},
   "source": [
    "## 显示名称,地址,价格及评分"
   ]
  },
  {
   "cell_type": "code",
   "execution_count": 35,
   "metadata": {},
   "outputs": [
    {
     "name": "stdout",
     "output_type": "stream",
     "text": [
      "酒店名: 1富驿时尚酒店（上海外滩南京东路地铁站店）（原福州路店）\n",
      "地址: 黄浦区福州路259号，近山东中路。 【 人民广场地区 外滩地区】 \n",
      "价格: 409\n",
      "评分: 4.6\n",
      "\n",
      "酒店名: 2上海静安禧睿酒店（原禧睿酒店南京西路店）\n",
      "地址: 静安区陕西北路288号，近南京西路。 【 南京西路商业区 人民广场地区】 \n",
      "价格: 515\n",
      "评分: 4.1\n",
      "\n",
      "酒店名: 3宿适精选酒店（上海外滩豫园店）\n",
      "地址: 黄浦区延安东路158弄8号，近延安高架桥。 【 外滩地区 人民广场地区】 \n",
      "价格: 527\n",
      "评分: 4.5\n",
      "\n",
      "酒店名: 4青旅国际酒店（上海南京东路外滩店）\n",
      "地址: 黄浦区九江路230号，近地铁2号,10号线南京东路站。 【 外滩地区 人民广场地区】 \n",
      "价格: 787\n",
      "评分: 4.5\n",
      "\n",
      "酒店名: 5上海外滩和颐酒店\n",
      "地址: 黄浦区四川中路653号，近香港路。 【 外滩地区 人民广场地区】 \n",
      "价格: 179\n",
      "评分: 4.7\n",
      "\n",
      "酒店名: 6上海宏泉艾瑞酒店\n",
      "地址: 黄浦区金陵东路507号，近广西南路。 【 淮海路商业区 人民广场地区】 \n",
      "价格: 1050\n",
      "评分: 4.6\n",
      "\n",
      "酒店名: 7上海沪纺大厦\n",
      "地址: 静安区陕西北路670号，近武定路。 【 南京西路商业区 人民广场地区】 \n",
      "价格: 540\n",
      "评分: 4.4\n",
      "\n",
      "酒店名: 8上海四季酒店\n",
      "地址: 静安区威海路500号，石门一路口。 【 南京西路商业区 人民广场地区】 \n",
      "价格: 1130\n",
      "评分: 4.6\n",
      "\n",
      "酒店名: 9上海滨江欣景大酒店\n",
      "地址: 黄浦区中山南路36-76号，近东门路。 【 外滩地区 人民广场地区】 \n",
      "价格: 719\n",
      "评分: 4.5\n",
      "\n",
      "酒店名: 10上海大酒店\n",
      "地址: 黄浦区九江路505号，近福建中路。 【 人民广场地区】 \n",
      "价格: 1480\n",
      "评分: 4.7\n",
      "\n",
      "酒店名: 11上海和平饭店\n",
      "地址: 黄浦区南京东路20号，近中山东一路。 【 外滩地区 人民广场地区】 \n",
      "价格: 2126\n",
      "评分: 4.8\n",
      "\n",
      "酒店名: 12上海新天地安达仕酒店\n",
      "地址: 黄浦区嵩山路88号，近太仓路。 【 新天地地区 人民广场地区】 \n",
      "价格: 1609\n",
      "评分: 4.6\n",
      "\n",
      "酒店名: 13锦江都城经典上海新亚外滩酒店（原新亚大酒店）\n",
      "地址: 虹口区天潼路422号，近四川北路，外滩源。 【 七浦路商业区 人民广场地区】 \n",
      "价格: 828\n",
      "评分: 4.7\n",
      "\n",
      "酒店名: 14上海铭德大酒店\n",
      "地址: 静安区西藏北路558号，近虬江路。 【 上海火车站地区 人民广场地区】 \n",
      "价格: 515\n",
      "评分: 4.3\n",
      "\n",
      "酒店名: 15上海御锦轩凯宾斯基全套房酒店\n",
      "地址: 静安区凤阳路601号，近成都北路。 【 南京西路商业区 人民广场地区】 \n",
      "价格: 998\n",
      "评分: 4.5\n",
      "\n",
      "酒店名: 16宿适轻奢酒店（上海人民广场南京东路店）\n",
      "地址: 黄浦区浙江中路535号，近北京东路。 【 人民广场地区】 \n",
      "价格: 640\n",
      "评分: 4.8\n",
      "\n",
      "酒店名: 17上海浦江饭店\n",
      "地址: 虹口区黄浦路15号，近外白渡桥。 【 外滩地区 人民广场地区】 \n",
      "价格: 1523\n",
      "评分: 4.6\n",
      "\n",
      "酒店名: 18上海国际饭店\n",
      "地址: 黄浦区南京西路170号，近黄河路。 【 人民广场地区】 \n",
      "价格: 784\n",
      "评分: 4.5\n",
      "\n",
      "酒店名: 19上海南京东路和颐酒店\n",
      "地址: 黄浦区汉口路678号，近广西北路。 【 人民广场地区】 \n",
      "价格: 729\n",
      "评分: 4.8\n",
      "\n",
      "酒店名: 20上海美臣大酒店\n",
      "地址: 黄浦区淮海中路935号，近茂名路。 【 淮海路商业区 人民广场地区】 \n",
      "价格: 617\n",
      "评分: 4.6\n",
      "\n",
      "酒店名: 21上海东湖宾馆\n",
      "地址: 东湖路70号，近淮海中路。 【 淮海路商业区 人民广场地区】 \n",
      "价格: 880\n",
      "评分: 4.8\n",
      "\n",
      "酒店名: 22上海中福大酒店\n",
      "地址: 黄浦区九江路619号，近浙江中路。 【 人民广场地区 外滩地区】 \n",
      "价格: 561\n",
      "评分: 4.2\n",
      "\n",
      "酒店名: 23璞爵酒店（上海外滩南京东路步行街店）（原年代秀时尚酒店）\n",
      "地址: 黄浦区天津路118号（地铁南京东路站5号出口对面西侧），近河南中路。 【 人民广场地区 外滩地区】 \n",
      "价格: 387\n",
      "评分: 4.1\n",
      "\n",
      "酒店名: 24上海新协通国际大酒店\n",
      "地址: 黄浦区北京东路398号，近山东北路。 【 外滩地区 人民广场地区】 \n",
      "价格: 788\n",
      "评分: 4.4\n",
      "\n",
      "酒店名: 25上海嘉豪淮海国际豪生酒店\n",
      "地址: 徐汇区汾阳路1号，近淮海中路。 【 淮海路商业区 人民广场地区】 \n",
      "价格: 950\n",
      "评分: 4.5\n",
      "\n"
     ]
    }
   ],
   "source": [
    "soup = BeautifulSoup(driver.page_source, 'lxml')\n",
    "i = 0\n",
    "\n",
    "for ele in soup.select('.searchresult_info'):\n",
    "    name = ele.select('.searchresult_info_name h2 a')\n",
    "    address = ele.select('.searchresult_htladdress')\n",
    "    price = ele.select('.hotel_price a span')\n",
    "    commentScore = ele.select('.searchresult_judge_box .hotel_value')\n",
    "    print(\"酒店名: {}\".format(name[0].text))\n",
    "    print(\"地址: {}\".format(address[0].text))\n",
    "    print(\"价格: {}\".format(price[0].text))\n",
    "    print(\"评分: {}\".format(commentScore[0].text))\n",
    "    print(\"\")\n",
    "    i = i + 1\n",
    "    if (i >= 25):\n",
    "        break"
   ]
  },
  {
   "cell_type": "markdown",
   "metadata": {},
   "source": [
    "## 关闭"
   ]
  },
  {
   "cell_type": "code",
   "execution_count": 36,
   "metadata": {
    "collapsed": true
   },
   "outputs": [],
   "source": [
    "driver.close()"
   ]
  },
  {
   "cell_type": "code",
   "execution_count": null,
   "metadata": {
    "collapsed": true
   },
   "outputs": [],
   "source": []
  }
 ],
 "metadata": {
  "kernelspec": {
   "display_name": "Python 3",
   "language": "python",
   "name": "python3"
  },
  "language_info": {
   "codemirror_mode": {
    "name": "ipython",
    "version": 3
   },
   "file_extension": ".py",
   "mimetype": "text/x-python",
   "name": "python",
   "nbconvert_exporter": "python",
   "pygments_lexer": "ipython3",
   "version": "3.5.2"
  }
 },
 "nbformat": 4,
 "nbformat_minor": 2
}
